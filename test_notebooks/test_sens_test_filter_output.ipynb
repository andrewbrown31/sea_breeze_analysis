{
 "cells": [
  {
   "cell_type": "code",
   "execution_count": 1,
   "id": "e5cb3be9-44b4-4804-9188-4a1bd85f595d",
   "metadata": {},
   "outputs": [],
   "source": [
    "import matplotlib.pyplot as plt\n",
    "import xarray as xr"
   ]
  },
  {
   "cell_type": "code",
   "execution_count": 36,
   "id": "9280e8cb-0bc4-448c-b52c-522db59c180d",
   "metadata": {},
   "outputs": [
    {
     "name": "stdout",
     "output_type": "stream",
     "text": [
      "(4266, 1960, 2550) (4269, 1960, 2550) (4269, 1960, 2550)\n"
     ]
    }
   ],
   "source": [
    "# test=\"prop_speed1\"\n",
    "\n",
    "# sbi=xr.open_mfdataset(\"/g/data/ng72/ab4502/sea_breeze_detection/aus2200_smooth_s4/filters/filtered_mask_\"+test+\"_sbi_2*\",\n",
    "#                   engine=\"zarr\").mask\n",
    "# F=xr.open_mfdataset(\"/g/data/ng72/ab4502/sea_breeze_detection/aus2200_smooth_s4/filters/filtered_mask_\"+test+\"_F_2*\",\n",
    "#                   engine=\"zarr\").mask\n",
    "# fuzzy=xr.open_mfdataset(\"/g/data/ng72/ab4502/sea_breeze_detection/aus2200_smooth_s4/filters/filtered_mask_\"+test+\"_fuzzy_2*\",\n",
    "#                   engine=\"zarr\").mask\n",
    "\n",
    "# print(sbi.shape, F.shape, fuzzy.shape)\n"
   ]
  },
  {
   "cell_type": "code",
   "execution_count": 46,
   "id": "0e52b9bb-b7c1-4fd2-8eba-15a3415b1667",
   "metadata": {},
   "outputs": [
    {
     "name": "stdout",
     "output_type": "stream",
     "text": [
      "(4266, 1960, 2550) (4269, 1960, 2550) (4263, 1960, 2550)\n"
     ]
    }
   ],
   "source": [
    "test=\"prop_speed2\"\n",
    "model=\"aus2200_smooth_s4\"\n",
    "\n",
    "sbi=xr.open_mfdataset(\"/g/data/ng72/ab4502/sea_breeze_detection/\"+model+\"/filters/filtered_mask_\"+test+\"_sbi_2*\",\n",
    "                  engine=\"zarr\").mask\n",
    "F=xr.open_mfdataset(\"/g/data/ng72/ab4502/sea_breeze_detection/\"+model+\"/filters/filtered_mask_\"+test+\"_F_2*\",\n",
    "                  engine=\"zarr\").mask\n",
    "fuzzy=xr.open_mfdataset(\"/g/data/ng72/ab4502/sea_breeze_detection/\"+model+\"/filters/filtered_mask_\"+test+\"_fuzzy_2*\",\n",
    "                  engine=\"zarr\").mask\n",
    "\n",
    "print(sbi.shape, F.shape, fuzzy.shape)\n"
   ]
  },
  {
   "cell_type": "code",
   "execution_count": 47,
   "id": "e97628d8-035a-48a8-9452-635a10e464f7",
   "metadata": {},
   "outputs": [
    {
     "data": {
      "text/plain": [
       "{'area_filter': 'True',\n",
       " 'area_filter_units': 'pixels',\n",
       " 'area_thresh_km': '50',\n",
       " 'area_thresh_pixels': '12',\n",
       " 'aspect_filter': 'True',\n",
       " 'aspect_thresh': '2',\n",
       " 'dist_to_coast_filter': 'False',\n",
       " 'hour_max_lst': '22',\n",
       " 'hour_min_lst': '9',\n",
       " 'humidity_change_filter': 'False',\n",
       " 'humidity_change_thresh': '0',\n",
       " 'land_sea_temperature_diff_thresh': '0',\n",
       " 'land_sea_temperature_filter': 'True',\n",
       " 'land_sea_temperature_radius': '50',\n",
       " 'max_distance_to_coast_thresh': '300',\n",
       " 'min_distance_to_coast_thresh': '0',\n",
       " 'orientation_filter': 'True',\n",
       " 'orientation_tol': '45',\n",
       " 'propagation_speed_filter': 'True',\n",
       " 'propagation_speed_thresh': '1.0',\n",
       " 'temperature_change_filter': 'False',\n",
       " 'temperature_change_thresh': '0',\n",
       " 'threshold': 0.4101175965796785,\n",
       " 'threshold_method': 'fixed',\n",
       " 'time_filter': 'False',\n",
       " 'wind_change_filter': 'False',\n",
       " 'wind_change_thresh': '0'}"
      ]
     },
     "execution_count": 47,
     "metadata": {},
     "output_type": "execute_result"
    }
   ],
   "source": [
    "sbi.attrs"
   ]
  },
  {
   "cell_type": "code",
   "execution_count": 48,
   "id": "781a0f02-9eb5-4840-b6e1-569b3f00a5ae",
   "metadata": {},
   "outputs": [
    {
     "data": {
      "text/plain": [
       "<matplotlib.collections.QuadMesh at 0x148453ef3bd0>"
      ]
     },
     "execution_count": 48,
     "metadata": {},
     "output_type": "execute_result"
    },
    {
     "data": {
      "image/png": "[encoded data removed]",
      "text/plain": [
       "<Figure size 1800x500 with 2 Axes>"
      ]
     },
     "metadata": {},
     "output_type": "display_data"
    }
   ],
   "source": [
    "t = \"2016-01-07 06:00\"\n",
    "plt.figure(figsize=[18,5])\n",
    "plt.subplot(1,3,1)\n",
    "sbi.sel(time=t).plot()\n",
    "# plt.subplot(1,3,2)\n",
    "# F.sel(time=t).plot()\n",
    "# plt.subplot(1,3,3)\n",
    "# fuzzy.sel(time=t).plot()"
   ]
  },
  {
   "cell_type": "code",
   "execution_count": null,
   "id": "7e4d4133-e8b7-415b-86ac-3261ae6b88ac",
   "metadata": {},
   "outputs": [],
   "source": []
  }
 ],
 "metadata": {
  "kernelspec": {
   "display_name": "Python [conda env:analysis3-25.06] *",
   "language": "python",
   "name": "conda-env-analysis3-25.06-py"
  },
  "language_info": {
   "codemirror_mode": {
    "name": "ipython",
    "version": 3
   },
   "file_extension": ".py",
   "mimetype": "text/x-python",
   "name": "python",
   "nbconvert_exporter": "python",
   "pygments_lexer": "ipython3",
   "version": "3.11.13"
  }
 },
 "nbformat": 4,
 "nbformat_minor": 5
}
