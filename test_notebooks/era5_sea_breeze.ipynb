{
 "cells": [
  {
   "cell_type": "code",
   "execution_count": 1,
   "id": "f1e5be90-3e7e-4f31-9e60-8c6fde02eec0",
   "metadata": {},
   "outputs": [],
   "source": [
    "from sea_breeze import load_model_data, sea_breeze_funcs, sea_breeze_filters\n",
    "from dask.distributed import Client\n",
    "from dask.distributed import progress\n",
    "import pandas as pd\n",
    "import os\n",
    "import metpy.calc as mpcalc\n",
    "import argparse"
   ]
  },
  {
   "cell_type": "code",
   "execution_count": 2,
   "id": "d2d7c184-4851-438e-bc4b-f747b89e318a",
   "metadata": {},
   "outputs": [
    {
     "ename": "NameError",
     "evalue": "name 'GadiClient' is not defined",
     "output_type": "error",
     "traceback": [
      "\u001b[0;31m---------------------------------------------------------------------------\u001b[0m",
      "\u001b[0;31mNameError\u001b[0m                                 Traceback (most recent call last)",
      "Cell \u001b[0;32mIn[2], line 1\u001b[0m\n\u001b[0;32m----> 1\u001b[0m client \u001b[38;5;241m=\u001b[39m \u001b[43mGadiClient\u001b[49m()\n\u001b[1;32m      2\u001b[0m client\n",
      "\u001b[0;31mNameError\u001b[0m: name 'GadiClient' is not defined"
     ]
    }
   ],
   "source": [
    "client = GadiClient()\n",
    "client"
   ]
  },
  {
   "cell_type": "code",
   "execution_count": null,
   "id": "7c82b9f9-fffd-45a0-8171-e90205bade40",
   "metadata": {},
   "outputs": [],
   "source": [
    "t1=\"2016-01-01 00:00\"\n",
    "t2=\"2016-01-31 23:00\"\n",
    "lat_slice=slice(-45.7,-6.9)\n",
    "lon_slice=slice(108,158.5)"
   ]
  },
  {
   "cell_type": "code",
   "execution_count": null,
   "id": "04a2c6e7-23a4-43b4-8a8d-8bf74a838639",
   "metadata": {},
   "outputs": [],
   "source": [
    "chunks = {\"time\":-1,\"lat\":{},\"lon\":{}}\n",
    "orog, lsm = load_model_data.load_aus2200_static(\"\"\n",
    "    \"mjo-elnino\",\n",
    "    lon_slice,\n",
    "    lat_slice)\n",
    "era5_uas = load_model_data.load_era5_variable(\n",
    "        [\"10u\"],\n",
    "        t1,\n",
    "        t2,\n",
    "        lon_slice,\n",
    "        lat_slice,\n",
    "        chunks=chunks)[\"10u\"][\"u10\"].chunk({\"lat\":-1,\"lon\":-1})\n",
    "era5_vas = load_model_data.load_era5_variable(\n",
    "        [\"10v\"],\n",
    "        t1,\n",
    "        t2,\n",
    "        lon_slice,\n",
    "        lat_slice,\n",
    "        chunks=chunks)[\"10v\"][\"v10\"].chunk({\"lat\":-1,\"lon\":-1})\n",
    "era5_2d = load_model_data.load_era5_variable(\n",
    "        [\"2d\"],\n",
    "        t1,\n",
    "        t2,\n",
    "        lon_slice,\n",
    "        lat_slice,\n",
    "        chunks=chunks)[\"2d\"][\"d2m\"]\n",
    "era5_ps = load_model_data.load_era5_variable(\n",
    "        [\"sp\"],\n",
    "        t1,\n",
    "        t2,\n",
    "        lon_slice,\n",
    "        lat_slice,\n",
    "        chunks=chunks)[\"sp\"][\"sp\"]\n",
    "era5_huss = mpcalc.specific_humidity_from_dewpoint(era5_ps,era5_2d)  "
   ]
  },
  {
   "cell_type": "code",
   "execution_count": null,
   "id": "4c9e4e7b-776f-4cb6-a8d5-2e3dcbe4831d",
   "metadata": {},
   "outputs": [],
   "source": [
    "angle_ds = load_model_data.get_coastline_angle_kernel(\n",
    "    lsm,\n",
    "    compute=False,\n",
    "    lat_slice=lat_slice,\n",
    "    lon_slice=lon_slice,\n",
    "    path_to_load=\"/g/data/gb02/ab4502/coastline_data/era5_global_angles.nc\")\n"
   ]
  },
  {
   "cell_type": "code",
   "execution_count": null,
   "id": "b0a9dde1-5103-4d56-b0b3-3830494694b5",
   "metadata": {},
   "outputs": [],
   "source": [
    "q=era5_huss\n",
    "import dask.array as da\n",
    "u=era5_uas\n",
    "v=era5_vas\n",
    "\n",
    "#Rechunk data in one lat and lon dim\n",
    "q = q.chunk({\"lat\":-1,\"lon\":-1})\n",
    "u = u.chunk({\"lat\":-1,\"lon\":-1})\n",
    "v = v.chunk({\"lat\":-1,\"lon\":-1})\n",
    "\n",
    "#Convert specific humidity to g/kg\n",
    "q = q*1000\n",
    "\n",
    "#Calculate grid spacing in km using metpy, in x and y\n",
    "x, y = np.meshgrid(q.lon,q.lat)\n",
    "dx, dy = mpcalc.lat_lon_grid_deltas(x,y)\n",
    "\n",
    "#Convert the x and y grid spacing arrays into xarray datasets. Need to interpolate to match the original grid\n",
    "dx = xr.DataArray(np.array(dx),dims=[\"lat\",\"lon\"],coords={\"lat\":q.lat.values, \"lon\":q.lon.values[0:-1]}).\\\n",
    "        interp({\"lon\":q.lon,\"lat\":q.lat},method=\"linear\",kwargs={\"fill_value\":\"extrapolate\"}).\\\n",
    "        chunk({\"lat\":q.chunksizes[\"lat\"][0], \"lon\":q.chunksizes[\"lon\"][0]})\n",
    "dy = xr.DataArray(np.array(dy),dims=[\"lat\",\"lon\"],coords={\"lat\":q.lat.values[0:-1], \"lon\":q.lon.values}).\\\n",
    "        interp({\"lon\":q.lon,\"lat\":q.lat},method=\"linear\",kwargs={\"fill_value\":\"extrapolate\"}).\\\n",
    "        chunk({\"lat\":q.chunksizes[\"lat\"][0], \"lon\":q.chunksizes[\"lon\"][0]})\n",
    "\n",
    "#Calculate horizontal moisture gradient\n",
    "ddy_q = (xr.DataArray(da.gradient(q,axis=q.get_axis_num(\"lat\")), dims=q.dims, coords=q.coords) / dy)\n",
    "ddx_q = (xr.DataArray(da.gradient(q,axis=q.get_axis_num(\"lon\")), dims=q.dims, coords=q.coords) / dx)\n",
    "mag_dq = np.sqrt( ddy_q**2 + ddx_q**2)\n",
    "\n",
    "ddy_u = (xr.DataArray(da.gradient(u,axis=q.get_axis_num(\"lat\")), dims=q.dims, coords=q.coords) / dy)\n",
    "ddx_u = (xr.DataArray(da.gradient(u,axis=q.get_axis_num(\"lon\")), dims=q.dims, coords=q.coords) / dx)\n",
    "ddy_v = (xr.DataArray(da.gradient(v,axis=q.get_axis_num(\"lat\")), dims=q.dims, coords=q.coords) / dy)\n",
    "ddx_v = (xr.DataArray(da.gradient(v,axis=q.get_axis_num(\"lon\")), dims=q.dims, coords=q.coords) / dx)\n",
    "div = ddx_u + ddy_v\n",
    "strch_def = ddx_u - ddy_v\n",
    "shear_def = ddx_v + ddy_u\n",
    "tot_def = np.sqrt(strch_def**2 + shear_def**2)\n",
    "\n",
    "#Calculate the angle between axis of dilitation and isentropes\n",
    "psi = 0.5 * np.arctan2(shear_def, strch_def)\n",
    "beta = np.arcsin((-ddx_q * np.cos(psi) - ddy_q * np.sin(psi)) / mag_dq)\n",
    "\n",
    "F = 0.5 * mag_dq * (tot_def * np.cos(2 * beta) - div) * 1.08e9"
   ]
  },
  {
   "cell_type": "code",
   "execution_count": null,
   "id": "cf9e3ce4-163e-46ef-b317-684e54cbcf98",
   "metadata": {},
   "outputs": [],
   "source": [
    "F.persist()"
   ]
  },
  {
   "cell_type": "code",
   "execution_count": null,
   "id": "b7df6c02-afec-4f3e-8e62-014b7d05bc0b",
   "metadata": {},
   "outputs": [],
   "source": []
  }
 ],
 "metadata": {
  "kernelspec": {
   "display_name": "Python [conda env:analysis3-24.04] *",
   "language": "python",
   "name": "conda-env-analysis3-24.04-py"
  },
  "language_info": {
   "codemirror_mode": {
    "name": "ipython",
    "version": 3
   },
   "file_extension": ".py",
   "mimetype": "text/x-python",
   "name": "python",
   "nbconvert_exporter": "python",
   "pygments_lexer": "ipython3",
   "version": "3.10.14"
  }
 },
 "nbformat": 4,
 "nbformat_minor": 5
}
