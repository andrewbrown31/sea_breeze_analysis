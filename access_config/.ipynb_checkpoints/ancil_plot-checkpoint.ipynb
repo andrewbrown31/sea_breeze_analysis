{
 "cells": [
  {
   "cell_type": "code",
   "execution_count": 1,
   "id": "12d27759-5194-455b-a01a-eb9a87b5ae37",
   "metadata": {},
   "outputs": [
    {
     "name": "stderr",
     "output_type": "stream",
     "text": [
      "/g/data/hh5/public/apps/miniconda3/envs/analysis3-24.04/lib/python3.10/site-packages/ants/regrid/esmf.py:26: UserWarning:  No module named 'ESMF'\n",
      "Proceeding without capabilities provided by ESMPy (ESMF).\n",
      "  warnings.warn(msg.format(str(_ESMF_IMPORT_ERROR)))\n",
      "/g/data/hh5/public/apps/miniconda3/envs/analysis3-24.04/lib/python3.10/site-packages/ants/regrid/_ugrid.py:19: UserWarning:  No module named 'ESMF'\n",
      "Proceeding without capabilities provided by ESMPy (ESMF).\n",
      "  warnings.warn(msg.format(str(_ESMF_IMPORT_ERROR)))\n",
      "/g/data/hh5/public/apps/miniconda3/envs/analysis3-24.04/lib/python3.10/site-packages/iris/experimental/raster.py:29: IrisDeprecation: iris.experimental.raster is deprecated since version 3.2, and will be removed in a future release. If you make use of this functionality, please contact the Iris Developers to discuss how to retain it (which may involve reversing the deprecation).\n",
      "  warn_deprecated(wmsg)\n"
     ]
    }
   ],
   "source": [
    "import ants\n",
    "import iris\n",
    "import iris.plot as iplt\n",
    "import matplotlib.pyplot as plt\n",
    "import xarray as xr"
   ]
  },
  {
   "cell_type": "code",
   "execution_count": 2,
   "id": "b9f96501-d55e-46ec-a970-af7b3c21c434",
   "metadata": {},
   "outputs": [
    {
     "name": "stderr",
     "output_type": "stream",
     "text": [
      "/g/data/hh5/public/apps/miniconda3/envs/analysis3-24.04/lib/python3.10/site-packages/mule/stashmaster.py:284: UserWarning: Ancillary files do not define the UM version number in the Fixed Length Header. No STASHmaster file loaded: Fields will not have STASH entries attached.\n",
      "  warnings.warn(msg)\n"
     ]
    }
   ],
   "source": [
    "#cubes = ants.load(\"/scratch/gb02/ab4502/cylc-run/u-cp145/share/data/ancils/aus2200/d0198/qrparm.mask\")\n",
    "cubes = ants.load(\"/scratch/gb02/ab4502/cylc-run/u-dg767/share/data/ancils/Gippsland/d1000/qrparm.mask\")\n"
   ]
  },
  {
   "cell_type": "code",
   "execution_count": 3,
   "id": "22d3b5dc-0eb2-40f2-bd04-f8ab16d97b8b",
   "metadata": {},
   "outputs": [
    {
     "data": {
      "text/html": [
       "\n",
       "<style>\n",
       "    .accordion-22457533784176 {\n",
       "        color: var(--jp-ui-font-color2);\n",
       "        background: var(--jp-layout-color2);\n",
       "        cursor: pointer;\n",
       "        padding: 10px;\n",
       "        border: 1px solid var(--jp-border-color0);\n",
       "        width: 100%;\n",
       "        text-align: left;\n",
       "        font-size: 14px;\n",
       "        font-family: var(--jp-code-font-family);\n",
       "        font-weight: normal;\n",
       "        outline: none;\n",
       "        transition: 0.4s;\n",
       "    }\n",
       "    .active {\n",
       "        background: var(--jp-layout-color1);\n",
       "        font-weight: 900;\n",
       "    }\n",
       "    .accordion-22457533784176.active {\n",
       "        border: 1px solid var(--jp-brand-color1) !important;\n",
       "    }\n",
       "    .accordion-22457533784176:hover {\n",
       "        box-shadow: var(--jp-input-box-shadow);\n",
       "        border: 2px solid var(--jp-brand-color1);\n",
       "    }\n",
       "    .panel-22457533784176 {\n",
       "        padding: 0 18px;\n",
       "        margin-bottom: 5px;\n",
       "        background-color: var(--jp-layout-color1);\n",
       "        display: none;\n",
       "        overflow: hidden;\n",
       "        border: 1px solid var(--jp-brand-color2);\n",
       "    }\n",
       "</style>\n",
       "<script type=\"text/javascript\">\n",
       "    var accordion = document.getElementsByClassName(\"accordion-22457533784176\");\n",
       "    var i;\n",
       "\n",
       "    for (i = 0; i < accordion.length; i++) {\n",
       "        accordion[i].addEventListener(\"click\", function() {\n",
       "            this.classList.toggle(\"active\");\n",
       "\n",
       "            var panel = this.nextElementSibling;\n",
       "            if (panel.style.display === \"block\") {\n",
       "                panel.style.display = \"none\";\n",
       "            } else {\n",
       "                panel.style.display = \"block\";\n",
       "            }\n",
       "        });\n",
       "    }\n",
       "</script>\n",
       "\n",
       "<button class=\"accordion-22457533784176\">0: land_binary_mask / (1)              (latitude: 350; longitude: 350)</button>\n",
       "<div class=\"panel-22457533784176\">\n",
       "    <p>\n",
       "<style>\n",
       "  a.iris {\n",
       "      text-decoration: none !important;\n",
       "  }\n",
       "  table.iris {\n",
       "      white-space: pre;\n",
       "      border: 1px solid;\n",
       "      border-color: #9c9c9c;\n",
       "      font-family: monaco, monospace;\n",
       "  }\n",
       "  th.iris {\n",
       "      background: #303f3f;\n",
       "      color: #e0e0e0;\n",
       "      border-left: 1px solid;\n",
       "      border-color: #9c9c9c;\n",
       "      font-size: 1.05em;\n",
       "      min-width: 50px;\n",
       "      max-width: 125px;\n",
       "  }\n",
       "  tr.iris :first-child {\n",
       "      border-right: 1px solid #9c9c9c !important;\n",
       "  }\n",
       "  td.iris-title {\n",
       "      background: #d5dcdf;\n",
       "      border-top: 1px solid #9c9c9c;\n",
       "      font-weight: bold;\n",
       "  }\n",
       "  .iris-word-cell {\n",
       "      text-align: left !important;\n",
       "      white-space: pre;\n",
       "  }\n",
       "  .iris-subheading-cell {\n",
       "      padding-left: 2em !important;\n",
       "  }\n",
       "  .iris-inclusion-cell {\n",
       "      padding-right: 1em !important;\n",
       "  }\n",
       "  .iris-panel-body {\n",
       "      padding-top: 0px;\n",
       "  }\n",
       "  .iris-panel-title {\n",
       "      padding-left: 3em;\n",
       "  }\n",
       "  .iris-panel-title {\n",
       "      margin-top: 7px;\n",
       "  }\n",
       "</style>\n",
       "<table class=\"iris\" id=\"22458788147840\">\n",
       "    <tr class=\"iris\">\n",
       "<th class=\"iris iris-word-cell\">Land Binary Mask (1)</th>\n",
       "<th class=\"iris iris-word-cell\">latitude</th>\n",
       "<th class=\"iris iris-word-cell\">longitude</th>\n",
       "</tr>\n",
       "    <tr class=\"iris\">\n",
       "<td class=\"iris-word-cell iris-subheading-cell\">Shape</td>\n",
       "<td class=\"iris iris-inclusion-cell\">350</td>\n",
       "<td class=\"iris iris-inclusion-cell\">350</td>\n",
       "</tr>\n",
       "    <tr class=\"iris\">\n",
       "    <td class=\"iris-title iris-word-cell\">Dimension coordinates</td>\n",
       "    <td class=\"iris-title\"></td>\n",
       "    <td class=\"iris-title\"></td>\n",
       "</tr>\n",
       "<tr class=\"iris\">\n",
       "    <td class=\"iris-word-cell iris-subheading-cell\">\tlatitude</td>\n",
       "    <td class=\"iris-inclusion-cell\">x</td>\n",
       "    <td class=\"iris-inclusion-cell\">-</td>\n",
       "</tr>\n",
       "<tr class=\"iris\">\n",
       "    <td class=\"iris-word-cell iris-subheading-cell\">\tlongitude</td>\n",
       "    <td class=\"iris-inclusion-cell\">-</td>\n",
       "    <td class=\"iris-inclusion-cell\">x</td>\n",
       "</tr>\n",
       "<tr class=\"iris\">\n",
       "    <td class=\"iris-title iris-word-cell\">Attributes</td>\n",
       "    <td class=\"iris-title\"></td>\n",
       "    <td class=\"iris-title\"></td>\n",
       "</tr>\n",
       "<tr class=\"iris\">\n",
       "    <td class=\"iris-word-cell iris-subheading-cell\">\tSTASH</td>\n",
       "    <td class=\"iris-word-cell\" colspan=\"2\">m01s00i030</td>\n",
       "</tr>\n",
       "<tr class=\"iris\">\n",
       "    <td class=\"iris-word-cell iris-subheading-cell\">\tgrid_staggering</td>\n",
       "    <td class=\"iris-word-cell\" colspan=\"2\">6</td>\n",
       "</tr>\n",
       "</table>\n",
       "        </p>\n",
       "</div>\n",
       "    \n",
       "    "
      ],
      "text/plain": [
       "[<iris 'Cube' of land_binary_mask / (1) (latitude: 350; longitude: 350)>]"
      ]
     },
     "execution_count": 3,
     "metadata": {},
     "output_type": "execute_result"
    }
   ],
   "source": [
    "cubes"
   ]
  },
  {
   "cell_type": "code",
   "execution_count": 10,
   "id": "7c2123bb-d763-4bfd-971b-d7c84ebcf8ef",
   "metadata": {},
   "outputs": [
    {
     "name": "stderr",
     "output_type": "stream",
     "text": [
      "/g/data/hh5/public/apps/miniconda3/envs/analysis3-24.04/lib/python3.10/site-packages/mule/stashmaster.py:284: UserWarning: Ancillary files do not define the UM version number in the Fixed Length Header. No STASHmaster file loaded: Fields will not have STASH entries attached.\n",
      "  warnings.warn(msg)\n"
     ]
    },
    {
     "ename": "OSError",
     "evalue": "One or more of the files specified did not exist:\n    * \"/g/data/nf33/public/training-day-2024/access-ram3/ancils/Gippsland/d1000/qrparm.mask\" didn't match any files",
     "output_type": "error",
     "traceback": [
      "\u001b[0;31m---------------------------------------------------------------------------\u001b[0m",
      "\u001b[0;31mOSError\u001b[0m                                   Traceback (most recent call last)",
      "Cell \u001b[0;32mIn[10], line 11\u001b[0m\n\u001b[1;32m      1\u001b[0m \u001b[38;5;66;03m# mask = iris.load_cube(\"/scratch/gb02/ab4502/cylc-run/u-cp145/share/data/ancils/aus2200/d0198/qrparm.mask\",\u001b[39;00m\n\u001b[1;32m      2\u001b[0m \u001b[38;5;66;03m#                      \"land_binary_mask\")\u001b[39;00m\n\u001b[1;32m      3\u001b[0m \u001b[38;5;66;03m# land_frac = iris.load_cube(\"/scratch/gb02/ab4502/cylc-run/u-cp145/share/data/ancils/aus2200/d0198/qrparm.mask\",\u001b[39;00m\n\u001b[0;32m   (...)\u001b[0m\n\u001b[1;32m      6\u001b[0m \u001b[38;5;66;03m# mask_bc = iris.load_cube(\"/scratch/gb02/ab4502/cylc-run/u-cp145/share/data/ancils/aus2200/era5/qrparm.mask\",\u001b[39;00m\n\u001b[1;32m      7\u001b[0m \u001b[38;5;66;03m#                      \"land_binary_mask\")\u001b[39;00m\n\u001b[1;32m      9\u001b[0m mask_gippsland \u001b[38;5;241m=\u001b[39m iris\u001b[38;5;241m.\u001b[39mload_cube(\u001b[38;5;124m\"\u001b[39m\u001b[38;5;124m/scratch/gb02/ab4502/cylc-run/u-dg767/share/data/ancils/Gippsland/d1000/qrparm.mask\u001b[39m\u001b[38;5;124m\"\u001b[39m,\n\u001b[1;32m     10\u001b[0m                      \u001b[38;5;124m\"\u001b[39m\u001b[38;5;124mland_binary_mask\u001b[39m\u001b[38;5;124m\"\u001b[39m)\n\u001b[0;32m---> 11\u001b[0m mask_lismore \u001b[38;5;241m=\u001b[39m \u001b[43miris\u001b[49m\u001b[38;5;241;43m.\u001b[39;49m\u001b[43mload_cube\u001b[49m\u001b[43m(\u001b[49m\u001b[38;5;124;43m\"\u001b[39;49m\u001b[38;5;124;43m/g/data/nf33/public/training-day-2024/access-ram3/ancils/Gippsland/d1000/qrparm.mask\u001b[39;49m\u001b[38;5;124;43m\"\u001b[39;49m\u001b[43m,\u001b[49m\n\u001b[1;32m     12\u001b[0m \u001b[43m                     \u001b[49m\u001b[38;5;124;43m\"\u001b[39;49m\u001b[38;5;124;43mland_binary_mask\u001b[39;49m\u001b[38;5;124;43m\"\u001b[39;49m\u001b[43m)\u001b[49m\n\u001b[1;32m     14\u001b[0m plt\u001b[38;5;241m.\u001b[39mfigure(figsize\u001b[38;5;241m=\u001b[39m[\u001b[38;5;241m14\u001b[39m,\u001b[38;5;241m5\u001b[39m])\n\u001b[1;32m     15\u001b[0m plt\u001b[38;5;241m.\u001b[39msubplot(\u001b[38;5;241m1\u001b[39m,\u001b[38;5;241m2\u001b[39m,\u001b[38;5;241m1\u001b[39m)\n",
      "File \u001b[0;32m/g/data/hh5/public/apps/miniconda3/envs/analysis3-24.04/lib/python3.10/site-packages/iris/__init__.py:354\u001b[0m, in \u001b[0;36mload_cube\u001b[0;34m(uris, constraint, callback)\u001b[0m\n\u001b[1;32m    351\u001b[0m \u001b[38;5;28;01mif\u001b[39;00m \u001b[38;5;28mlen\u001b[39m(constraints) \u001b[38;5;241m!=\u001b[39m \u001b[38;5;241m1\u001b[39m:\n\u001b[1;32m    352\u001b[0m     \u001b[38;5;28;01mraise\u001b[39;00m \u001b[38;5;167;01mValueError\u001b[39;00m(\u001b[38;5;124m\"\u001b[39m\u001b[38;5;124monly a single constraint is allowed\u001b[39m\u001b[38;5;124m\"\u001b[39m)\n\u001b[0;32m--> 354\u001b[0m cubes \u001b[38;5;241m=\u001b[39m \u001b[43m_load_collection\u001b[49m\u001b[43m(\u001b[49m\u001b[43muris\u001b[49m\u001b[43m,\u001b[49m\u001b[43m \u001b[49m\u001b[43mconstraints\u001b[49m\u001b[43m,\u001b[49m\u001b[43m \u001b[49m\u001b[43mcallback\u001b[49m\u001b[43m)\u001b[49m\u001b[38;5;241m.\u001b[39mcubes()\n\u001b[1;32m    356\u001b[0m \u001b[38;5;28;01mtry\u001b[39;00m:\n\u001b[1;32m    357\u001b[0m     cube \u001b[38;5;241m=\u001b[39m cubes\u001b[38;5;241m.\u001b[39mmerge_cube()\n",
      "File \u001b[0;32m/g/data/hh5/public/apps/miniconda3/envs/analysis3-24.04/lib/python3.10/site-packages/iris/__init__.py:294\u001b[0m, in \u001b[0;36m_load_collection\u001b[0;34m(uris, constraints, callback)\u001b[0m\n\u001b[1;32m    292\u001b[0m \u001b[38;5;28;01mtry\u001b[39;00m:\n\u001b[1;32m    293\u001b[0m     cubes \u001b[38;5;241m=\u001b[39m _generate_cubes(uris, callback, constraints)\n\u001b[0;32m--> 294\u001b[0m     result \u001b[38;5;241m=\u001b[39m \u001b[43m_CubeFilterCollection\u001b[49m\u001b[38;5;241;43m.\u001b[39;49m\u001b[43mfrom_cubes\u001b[49m\u001b[43m(\u001b[49m\u001b[43mcubes\u001b[49m\u001b[43m,\u001b[49m\u001b[43m \u001b[49m\u001b[43mconstraints\u001b[49m\u001b[43m)\u001b[49m\n\u001b[1;32m    295\u001b[0m \u001b[38;5;28;01mexcept\u001b[39;00m \u001b[38;5;167;01mEOFError\u001b[39;00m \u001b[38;5;28;01mas\u001b[39;00m e:\n\u001b[1;32m    296\u001b[0m     \u001b[38;5;28;01mraise\u001b[39;00m iris\u001b[38;5;241m.\u001b[39mexceptions\u001b[38;5;241m.\u001b[39mTranslationError(\n\u001b[1;32m    297\u001b[0m         \u001b[38;5;124m\"\u001b[39m\u001b[38;5;124mThe file appears empty or incomplete: \u001b[39m\u001b[38;5;132;01m{!r}\u001b[39;00m\u001b[38;5;124m\"\u001b[39m\u001b[38;5;241m.\u001b[39mformat(\u001b[38;5;28mstr\u001b[39m(e))\n\u001b[1;32m    298\u001b[0m     )\n",
      "File \u001b[0;32m/g/data/hh5/public/apps/miniconda3/envs/analysis3-24.04/lib/python3.10/site-packages/iris/cube.py:97\u001b[0m, in \u001b[0;36m_CubeFilterCollection.from_cubes\u001b[0;34m(cubes, constraints)\u001b[0m\n\u001b[1;32m     95\u001b[0m pairs \u001b[38;5;241m=\u001b[39m [_CubeFilter(constraint) \u001b[38;5;28;01mfor\u001b[39;00m constraint \u001b[38;5;129;01min\u001b[39;00m constraints]\n\u001b[1;32m     96\u001b[0m collection \u001b[38;5;241m=\u001b[39m _CubeFilterCollection(pairs)\n\u001b[0;32m---> 97\u001b[0m \u001b[38;5;28;01mfor\u001b[39;00m cube \u001b[38;5;129;01min\u001b[39;00m cubes:\n\u001b[1;32m     98\u001b[0m     collection\u001b[38;5;241m.\u001b[39madd_cube(cube)\n\u001b[1;32m     99\u001b[0m \u001b[38;5;28;01mreturn\u001b[39;00m collection\n",
      "File \u001b[0;32m/g/data/hh5/public/apps/miniconda3/envs/analysis3-24.04/lib/python3.10/site-packages/iris/__init__.py:275\u001b[0m, in \u001b[0;36m_generate_cubes\u001b[0;34m(uris, callback, constraints)\u001b[0m\n\u001b[1;32m    273\u001b[0m \u001b[38;5;28;01mif\u001b[39;00m scheme \u001b[38;5;241m==\u001b[39m \u001b[38;5;124m\"\u001b[39m\u001b[38;5;124mfile\u001b[39m\u001b[38;5;124m\"\u001b[39m:\n\u001b[1;32m    274\u001b[0m     part_names \u001b[38;5;241m=\u001b[39m [x[\u001b[38;5;241m1\u001b[39m] \u001b[38;5;28;01mfor\u001b[39;00m x \u001b[38;5;129;01min\u001b[39;00m groups]\n\u001b[0;32m--> 275\u001b[0m     \u001b[38;5;28;01mfor\u001b[39;00m cube \u001b[38;5;129;01min\u001b[39;00m iris\u001b[38;5;241m.\u001b[39mio\u001b[38;5;241m.\u001b[39mload_files(part_names, callback, constraints):\n\u001b[1;32m    276\u001b[0m         \u001b[38;5;28;01myield\u001b[39;00m cube\n\u001b[1;32m    277\u001b[0m \u001b[38;5;28;01melif\u001b[39;00m scheme \u001b[38;5;129;01min\u001b[39;00m [\u001b[38;5;124m\"\u001b[39m\u001b[38;5;124mhttp\u001b[39m\u001b[38;5;124m\"\u001b[39m, \u001b[38;5;124m\"\u001b[39m\u001b[38;5;124mhttps\u001b[39m\u001b[38;5;124m\"\u001b[39m]:\n",
      "File \u001b[0;32m/g/data/hh5/public/apps/miniconda3/envs/analysis3-24.04/lib/python3.10/site-packages/iris/io/__init__.py:206\u001b[0m, in \u001b[0;36mload_files\u001b[0;34m(filenames, callback, constraints)\u001b[0m\n\u001b[1;32m    192\u001b[0m \u001b[38;5;250m\u001b[39m\u001b[38;5;124;03m\"\"\"Create a generator of Cubes from given files.\u001b[39;00m\n\u001b[1;32m    193\u001b[0m \n\u001b[1;32m    194\u001b[0m \u001b[38;5;124;03mTake a list of filenames which may also be globs, and optionally a\u001b[39;00m\n\u001b[0;32m   (...)\u001b[0m\n\u001b[1;32m    202\u001b[0m \n\u001b[1;32m    203\u001b[0m \u001b[38;5;124;03m\"\"\"\u001b[39;00m\n\u001b[1;32m    204\u001b[0m \u001b[38;5;28;01mfrom\u001b[39;00m \u001b[38;5;21;01miris\u001b[39;00m\u001b[38;5;21;01m.\u001b[39;00m\u001b[38;5;21;01mfileformats\u001b[39;00m \u001b[38;5;28;01mimport\u001b[39;00m FORMAT_AGENT\n\u001b[0;32m--> 206\u001b[0m all_file_paths \u001b[38;5;241m=\u001b[39m \u001b[43mexpand_filespecs\u001b[49m\u001b[43m(\u001b[49m\u001b[43mfilenames\u001b[49m\u001b[43m)\u001b[49m\n\u001b[1;32m    208\u001b[0m \u001b[38;5;66;03m# Create default dict mapping iris format handler to its associated filenames\u001b[39;00m\n\u001b[1;32m    209\u001b[0m handler_map \u001b[38;5;241m=\u001b[39m collections\u001b[38;5;241m.\u001b[39mdefaultdict(\u001b[38;5;28mlist\u001b[39m)\n",
      "File \u001b[0;32m/g/data/hh5/public/apps/miniconda3/envs/analysis3-24.04/lib/python3.10/site-packages/iris/io/__init__.py:184\u001b[0m, in \u001b[0;36mexpand_filespecs\u001b[0;34m(file_specs, files_expected)\u001b[0m\n\u001b[1;32m    182\u001b[0m             \u001b[38;5;28;01melse\u001b[39;00m:\n\u001b[1;32m    183\u001b[0m                 msg \u001b[38;5;241m+\u001b[39m\u001b[38;5;241m=\u001b[39m \u001b[38;5;124m'\u001b[39m\u001b[38;5;130;01m\\n\u001b[39;00m\u001b[38;5;124m    * \u001b[39m\u001b[38;5;124m\"\u001b[39m\u001b[38;5;132;01m{}\u001b[39;00m\u001b[38;5;124m\"\u001b[39m\u001b[38;5;124m didn\u001b[39m\u001b[38;5;130;01m\\'\u001b[39;00m\u001b[38;5;124mt match any files\u001b[39m\u001b[38;5;124m'\u001b[39m\u001b[38;5;241m.\u001b[39mformat(pattern)\n\u001b[0;32m--> 184\u001b[0m         \u001b[38;5;28;01mraise\u001b[39;00m \u001b[38;5;167;01mIOError\u001b[39;00m(msg)\n\u001b[1;32m    185\u001b[0m     result \u001b[38;5;241m=\u001b[39m [fname \u001b[38;5;28;01mfor\u001b[39;00m fnames \u001b[38;5;129;01min\u001b[39;00m all_expanded \u001b[38;5;28;01mfor\u001b[39;00m fname \u001b[38;5;129;01min\u001b[39;00m fnames]\n\u001b[1;32m    186\u001b[0m \u001b[38;5;28;01melse\u001b[39;00m:\n",
      "\u001b[0;31mOSError\u001b[0m: One or more of the files specified did not exist:\n    * \"/g/data/nf33/public/training-day-2024/access-ram3/ancils/Gippsland/d1000/qrparm.mask\" didn't match any files"
     ]
    }
   ],
   "source": [
    "# mask = iris.load_cube(\"/scratch/gb02/ab4502/cylc-run/u-cp145/share/data/ancils/aus2200/d0198/qrparm.mask\",\n",
    "#                      \"land_binary_mask\")\n",
    "# land_frac = iris.load_cube(\"/scratch/gb02/ab4502/cylc-run/u-cp145/share/data/ancils/aus2200/d0198/qrparm.mask\",\n",
    "#                      \"land_area_fraction\")\n",
    "\n",
    "# mask_bc = iris.load_cube(\"/scratch/gb02/ab4502/cylc-run/u-cp145/share/data/ancils/aus2200/era5/qrparm.mask\",\n",
    "#                      \"land_binary_mask\")\n",
    "\n",
    "mask_gippsland = iris.load_cube(\"/scratch/gb02/ab4502/cylc-run/u-dg767/share/data/ancils/Gippsland/d1000/qrparm.mask\",\n",
    "                     \"land_binary_mask\")\n",
    "mask_lismore = iris.load_cube(\"/g/data/nf33/public/training-day-2024/access-ram3/ancils/Gippsland/d1000/qrparm.mask\",\n",
    "                     \"land_binary_mask\")\n",
    "\n",
    "plt.figure(figsize=[14,5])\n",
    "plt.subplot(1,2,1)\n",
    "iplt.pcolormesh(mask)\n",
    "plt.gca().gridlines(draw_labels=[\"bottom\",\"left\"])\n",
    "print(\"Lon bounds\",print(xr.DataArray.from_iris(mask).latitude.min().values, xr.DataArray.from_iris(mask).latitude.max().values))"
   ]
  },
  {
   "cell_type": "code",
   "execution_count": null,
   "id": "184091f4-acdc-4654-ad6e-834984d1e825",
   "metadata": {},
   "outputs": [],
   "source": []
  }
 ],
 "metadata": {
  "kernelspec": {
   "display_name": "Python [conda env:analysis3-24.04] *",
   "language": "python",
   "name": "conda-env-analysis3-24.04-py"
  },
  "language_info": {
   "codemirror_mode": {
    "name": "ipython",
    "version": 3
   },
   "file_extension": ".py",
   "mimetype": "text/x-python",
   "name": "python",
   "nbconvert_exporter": "python",
   "pygments_lexer": "ipython3",
   "version": "3.10.14"
  }
 },
 "nbformat": 4,
 "nbformat_minor": 5
}
